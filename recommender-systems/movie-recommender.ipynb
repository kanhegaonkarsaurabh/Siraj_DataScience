{
 "cells": [
  {
   "cell_type": "code",
   "execution_count": 4,
   "metadata": {},
   "outputs": [],
   "source": [
    "# Dependencies required for recommenders\n",
    "import numpy as np\n",
    "import scipy\n",
    "from lightfm.datasets import fetch_movielens\n",
    "from lightfm import LightFM"
   ]
  },
  {
   "cell_type": "code",
   "execution_count": 11,
   "metadata": {
    "collapsed": true
   },
   "outputs": [],
   "source": [
    "# Fetch the dataset from Movielens with a minimum rating of 5\n",
    "movies = fetch_movielens(min_rating = 5.0)\n",
    "#Here, the dataset is stored as a dictionary 'movies' with various string tags to find info."
   ]
  },
  {
   "cell_type": "code",
   "execution_count": 12,
   "metadata": {},
   "outputs": [
    {
     "name": "stdout",
     "output_type": "stream",
     "text": [
      "<943x1682 sparse matrix of type '<type 'numpy.int32'>'\n",
      "\twith 19048 stored elements in COOrdinate format>\n",
      "<943x1682 sparse matrix of type '<type 'numpy.int32'>'\n",
      "\twith 2153 stored elements in COOrdinate format>\n"
     ]
    }
   ],
   "source": [
    "# See how the data is divided as training and testing data\n",
    "print(repr(movies['train']))\n",
    "print(repr(movies['test']))\n",
    "# notice that testing is almost 1/10th of the training data. This is proper ratio"
   ]
  },
  {
   "cell_type": "code",
   "execution_count": 15,
   "metadata": {},
   "outputs": [
    {
     "data": {
      "text/plain": [
       "<lightfm.lightfm.LightFM at 0x105c43e10>"
      ]
     },
     "execution_count": 15,
     "metadata": {},
     "output_type": "execute_result"
    }
   ],
   "source": [
    "# Building the LightFM model\n",
    "model = LightFM(loss='warp')\n",
    "model.fit(movies['train'],epochs = 30,num_threads=2)\n",
    "# Here, epochs is the times the model goes through the data and the model fits on the training data"
   ]
  },
  {
   "cell_type": "code",
   "execution_count": 27,
   "metadata": {},
   "outputs": [],
   "source": [
    "# Now that the model is ready, we define a function which provides sample recommendation on the basis of our model\n",
    "def sample_recommendation(model,data,user_ids):\n",
    "    # get the items and the user_ids from the dataset\n",
    "    n_users,n_items = data['train'].shape\n",
    "    #now, generate a recommendation for each user\n",
    "    for user_id in user_ids:\n",
    "        # Here, the data is inmatrix so convert them to a compressed row format\n",
    "        known_positives = data['item_labels'][data['train'].tocsr()[user_id].indices]\n",
    "        # predict data by giving the particular user_id and hiis choices\n",
    "        scores = model.predict(user_id,np.arange(n_items))\n",
    "        # arrange in descending order to see his top choices\n",
    "        top_items = data['item_labels'][np.argsort(-scores)]\n",
    "        \n",
    "        print(\"User %s\" % user_id)\n",
    "        print( \"    Known Positives:\")\n",
    "        \n",
    "        for x in known_positives[:3]:\n",
    "            print( \"      %s\" % x)\n",
    "        \n",
    "        print(\"   Recommended:\")\n",
    "        for x in top_items[:3]:\n",
    "            print(\"     %s\" % x)\n",
    "        \n"
   ]
  },
  {
   "cell_type": "code",
   "execution_count": 29,
   "metadata": {},
   "outputs": [
    {
     "name": "stdout",
     "output_type": "stream",
     "text": [
      "User 12\n",
      "    Known Positives:\n",
      "      Get Shorty (1995)\n",
      "      Usual Suspects, The (1995)\n",
      "      Mighty Aphrodite (1995)\n",
      "   Recommended:\n",
      "     Casablanca (1942)\n",
      "     Pulp Fiction (1994)\n",
      "     Rear Window (1954)\n",
      "User 34\n",
      "    Known Positives:\n",
      "      Air Force One (1997)\n",
      "   Recommended:\n",
      "     Air Force One (1997)\n",
      "     Titanic (1997)\n",
      "     Star Wars (1977)\n",
      "User 100\n",
      "    Known Positives:\n",
      "      Jerry Maguire (1996)\n",
      "   Recommended:\n",
      "     Titanic (1997)\n",
      "     Jerry Maguire (1996)\n",
      "     Good Will Hunting (1997)\n",
      "User 1\n",
      "    Known Positives:\n",
      "      Fargo (1996)\n",
      "      Godfather, The (1972)\n",
      "      Kolya (1996)\n",
      "   Recommended:\n",
      "     English Patient, The (1996)\n",
      "     Leaving Las Vegas (1995)\n",
      "     Good Will Hunting (1997)\n"
     ]
    }
   ],
   "source": [
    "sample_recommendation(model,movies,[12,34,100,1])"
   ]
  },
  {
   "cell_type": "code",
   "execution_count": null,
   "metadata": {
    "collapsed": true
   },
   "outputs": [],
   "source": []
  },
  {
   "cell_type": "code",
   "execution_count": null,
   "metadata": {
    "collapsed": true
   },
   "outputs": [],
   "source": []
  }
 ],
 "metadata": {
  "kernelspec": {
   "display_name": "Python 2",
   "language": "python",
   "name": "python2"
  },
  "language_info": {
   "codemirror_mode": {
    "name": "ipython",
    "version": 2
   },
   "file_extension": ".py",
   "mimetype": "text/x-python",
   "name": "python",
   "nbconvert_exporter": "python",
   "pygments_lexer": "ipython2",
   "version": "2.7.13"
  }
 },
 "nbformat": 4,
 "nbformat_minor": 2
}
